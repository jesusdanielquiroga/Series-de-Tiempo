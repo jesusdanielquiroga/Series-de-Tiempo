{
  "nbformat": 4,
  "nbformat_minor": 0,
  "metadata": {
    "colab": {
      "provenance": []
    },
    "kernelspec": {
      "name": "python3",
      "display_name": "Python 3"
    },
    "language_info": {
      "name": "python"
    }
  },
  "cells": [
    {
      "cell_type": "code",
      "source": [
        "!pip install --upgrade pandas\n",
        "!pip install --upgrade pandas-datareader\n",
        "!pip install yfinance\n",
        "!pip install fix_yahoo_finance"
      ],
      "metadata": {
        "colab": {
          "base_uri": "https://localhost:8080/"
        },
        "id": "IyeJ0ZSKH9de",
        "outputId": "de945943-f70c-40b1-dabe-9b4808908044"
      },
      "execution_count": 5,
      "outputs": [
        {
          "output_type": "stream",
          "name": "stdout",
          "text": [
            "Looking in indexes: https://pypi.org/simple, https://us-python.pkg.dev/colab-wheels/public/simple/\n",
            "Requirement already satisfied: pandas in /usr/local/lib/python3.7/dist-packages (1.3.5)\n",
            "Requirement already satisfied: python-dateutil>=2.7.3 in /usr/local/lib/python3.7/dist-packages (from pandas) (2.8.2)\n",
            "Requirement already satisfied: pytz>=2017.3 in /usr/local/lib/python3.7/dist-packages (from pandas) (2022.5)\n",
            "Requirement already satisfied: numpy>=1.17.3 in /usr/local/lib/python3.7/dist-packages (from pandas) (1.21.6)\n",
            "Requirement already satisfied: six>=1.5 in /usr/local/lib/python3.7/dist-packages (from python-dateutil>=2.7.3->pandas) (1.15.0)\n",
            "Looking in indexes: https://pypi.org/simple, https://us-python.pkg.dev/colab-wheels/public/simple/\n",
            "Requirement already satisfied: pandas-datareader in /usr/local/lib/python3.7/dist-packages (0.10.0)\n",
            "Requirement already satisfied: pandas>=0.23 in /usr/local/lib/python3.7/dist-packages (from pandas-datareader) (1.3.5)\n",
            "Requirement already satisfied: requests>=2.19.0 in /usr/local/lib/python3.7/dist-packages (from pandas-datareader) (2.28.1)\n",
            "Requirement already satisfied: lxml in /usr/local/lib/python3.7/dist-packages (from pandas-datareader) (4.9.1)\n",
            "Requirement already satisfied: python-dateutil>=2.7.3 in /usr/local/lib/python3.7/dist-packages (from pandas>=0.23->pandas-datareader) (2.8.2)\n",
            "Requirement already satisfied: numpy>=1.17.3 in /usr/local/lib/python3.7/dist-packages (from pandas>=0.23->pandas-datareader) (1.21.6)\n",
            "Requirement already satisfied: pytz>=2017.3 in /usr/local/lib/python3.7/dist-packages (from pandas>=0.23->pandas-datareader) (2022.5)\n",
            "Requirement already satisfied: six>=1.5 in /usr/local/lib/python3.7/dist-packages (from python-dateutil>=2.7.3->pandas>=0.23->pandas-datareader) (1.15.0)\n",
            "Requirement already satisfied: idna<4,>=2.5 in /usr/local/lib/python3.7/dist-packages (from requests>=2.19.0->pandas-datareader) (2.10)\n",
            "Requirement already satisfied: charset-normalizer<3,>=2 in /usr/local/lib/python3.7/dist-packages (from requests>=2.19.0->pandas-datareader) (2.1.1)\n",
            "Requirement already satisfied: certifi>=2017.4.17 in /usr/local/lib/python3.7/dist-packages (from requests>=2.19.0->pandas-datareader) (2022.9.24)\n",
            "Requirement already satisfied: urllib3<1.27,>=1.21.1 in /usr/local/lib/python3.7/dist-packages (from requests>=2.19.0->pandas-datareader) (1.24.3)\n",
            "Looking in indexes: https://pypi.org/simple, https://us-python.pkg.dev/colab-wheels/public/simple/\n",
            "Requirement already satisfied: pandas-io in /usr/local/lib/python3.7/dist-packages (0.0.1)\n",
            "Looking in indexes: https://pypi.org/simple, https://us-python.pkg.dev/colab-wheels/public/simple/\n",
            "Requirement already satisfied: yfinance in /usr/local/lib/python3.7/dist-packages (0.1.85)\n",
            "Requirement already satisfied: pandas>=0.24.0 in /usr/local/lib/python3.7/dist-packages (from yfinance) (1.3.5)\n",
            "Requirement already satisfied: numpy>=1.15 in /usr/local/lib/python3.7/dist-packages (from yfinance) (1.21.6)\n",
            "Requirement already satisfied: multitasking>=0.0.7 in /usr/local/lib/python3.7/dist-packages (from yfinance) (0.0.11)\n",
            "Requirement already satisfied: appdirs>=1.4.4 in /usr/local/lib/python3.7/dist-packages (from yfinance) (1.4.4)\n",
            "Requirement already satisfied: requests>=2.26 in /usr/local/lib/python3.7/dist-packages (from yfinance) (2.28.1)\n",
            "Requirement already satisfied: lxml>=4.5.1 in /usr/local/lib/python3.7/dist-packages (from yfinance) (4.9.1)\n",
            "Requirement already satisfied: python-dateutil>=2.7.3 in /usr/local/lib/python3.7/dist-packages (from pandas>=0.24.0->yfinance) (2.8.2)\n",
            "Requirement already satisfied: pytz>=2017.3 in /usr/local/lib/python3.7/dist-packages (from pandas>=0.24.0->yfinance) (2022.5)\n",
            "Requirement already satisfied: six>=1.5 in /usr/local/lib/python3.7/dist-packages (from python-dateutil>=2.7.3->pandas>=0.24.0->yfinance) (1.15.0)\n",
            "Requirement already satisfied: charset-normalizer<3,>=2 in /usr/local/lib/python3.7/dist-packages (from requests>=2.26->yfinance) (2.1.1)\n",
            "Requirement already satisfied: certifi>=2017.4.17 in /usr/local/lib/python3.7/dist-packages (from requests>=2.26->yfinance) (2022.9.24)\n",
            "Requirement already satisfied: idna<4,>=2.5 in /usr/local/lib/python3.7/dist-packages (from requests>=2.26->yfinance) (2.10)\n",
            "Requirement already satisfied: urllib3<1.27,>=1.21.1 in /usr/local/lib/python3.7/dist-packages (from requests>=2.26->yfinance) (1.24.3)\n",
            "Looking in indexes: https://pypi.org/simple, https://us-python.pkg.dev/colab-wheels/public/simple/\n",
            "Requirement already satisfied: fix_yahoo_finance in /usr/local/lib/python3.7/dist-packages (0.0.22)\n",
            "Requirement already satisfied: requests in /usr/local/lib/python3.7/dist-packages (from fix_yahoo_finance) (2.28.1)\n",
            "Requirement already satisfied: numpy in /usr/local/lib/python3.7/dist-packages (from fix_yahoo_finance) (1.21.6)\n",
            "Requirement already satisfied: pandas in /usr/local/lib/python3.7/dist-packages (from fix_yahoo_finance) (1.3.5)\n",
            "Requirement already satisfied: multitasking in /usr/local/lib/python3.7/dist-packages (from fix_yahoo_finance) (0.0.11)\n",
            "Requirement already satisfied: pytz>=2017.3 in /usr/local/lib/python3.7/dist-packages (from pandas->fix_yahoo_finance) (2022.5)\n",
            "Requirement already satisfied: python-dateutil>=2.7.3 in /usr/local/lib/python3.7/dist-packages (from pandas->fix_yahoo_finance) (2.8.2)\n",
            "Requirement already satisfied: six>=1.5 in /usr/local/lib/python3.7/dist-packages (from python-dateutil>=2.7.3->pandas->fix_yahoo_finance) (1.15.0)\n",
            "Requirement already satisfied: certifi>=2017.4.17 in /usr/local/lib/python3.7/dist-packages (from requests->fix_yahoo_finance) (2022.9.24)\n",
            "Requirement already satisfied: charset-normalizer<3,>=2 in /usr/local/lib/python3.7/dist-packages (from requests->fix_yahoo_finance) (2.1.1)\n",
            "Requirement already satisfied: idna<4,>=2.5 in /usr/local/lib/python3.7/dist-packages (from requests->fix_yahoo_finance) (2.10)\n",
            "Requirement already satisfied: urllib3<1.27,>=1.21.1 in /usr/local/lib/python3.7/dist-packages (from requests->fix_yahoo_finance) (1.24.3)\n"
          ]
        }
      ]
    },
    {
      "cell_type": "code",
      "execution_count": 13,
      "metadata": {
        "id": "2FgHQcV9B47y"
      },
      "outputs": [],
      "source": [
        "#Importar modulos requeridos\n",
        "import pandas_datareader as data\n",
        "import pandas as pd\n",
        "import numpy as np\n",
        "#Importar librerias de visualización\n",
        "import matplotlib.pyplot as plt\n",
        "import seaborn as sns"
      ]
    },
    {
      "cell_type": "code",
      "source": [
        "# Ejemplo serie de tiempo con Pandas\n",
        "# Creando una serie de tiempo de los precios de dollar\n",
        "ts = data.DataReader(\"USDCOP=X\", start='2017-1-1', end='2022-11-3', data_source='yahoo')['Adj Close']\n"
      ],
      "metadata": {
        "id": "61SU2YX8JyAu"
      },
      "execution_count": 15,
      "outputs": []
    },
    {
      "cell_type": "code",
      "source": [
        "ts.head()"
      ],
      "metadata": {
        "colab": {
          "base_uri": "https://localhost:8080/"
        },
        "id": "u8hwvabOWXd6",
        "outputId": "1751b715-113c-4c6a-aeb0-1d52c97a830d"
      },
      "execution_count": 16,
      "outputs": [
        {
          "output_type": "execute_result",
          "data": {
            "text/plain": [
              "Date\n",
              "2017-01-02    2957.100098\n",
              "2017-01-03    2950.699951\n",
              "2017-01-04    2916.199951\n",
              "2017-01-05    2891.100098\n",
              "2017-01-06    2897.899902\n",
              "Name: Adj Close, dtype: float64"
            ]
          },
          "metadata": {},
          "execution_count": 16
        }
      ]
    },
    {
      "cell_type": "code",
      "source": [
        "# filtrando sólo del 2022-01-01 al 2022-11-04\n",
        "ts['2022-01-01':'2022-11-04']"
      ],
      "metadata": {
        "colab": {
          "base_uri": "https://localhost:8080/"
        },
        "id": "rpMqcEqqXqKR",
        "outputId": "99389276-c6a8-44c0-b7f8-79025b6a1cc9"
      },
      "execution_count": 19,
      "outputs": [
        {
          "output_type": "execute_result",
          "data": {
            "text/plain": [
              "Date\n",
              "2022-01-03    4063.580078\n",
              "2022-01-04    4063.080078\n",
              "2022-01-05    4078.550049\n",
              "2022-01-06    4026.919922\n",
              "2022-01-07    4030.919922\n",
              "                 ...     \n",
              "2022-10-31    4833.259766\n",
              "2022-11-01    4937.000000\n",
              "2022-11-02    5002.250000\n",
              "2022-11-03    5001.279785\n",
              "2022-11-04    5067.109863\n",
              "Name: Adj Close, Length: 220, dtype: float64"
            ]
          },
          "metadata": {},
          "execution_count": 19
        }
      ]
    },
    {
      "cell_type": "code",
      "source": [
        "# valores al 2022-11-04\n",
        "ts.loc['2022-11-04']"
      ],
      "metadata": {
        "colab": {
          "base_uri": "https://localhost:8080/"
        },
        "id": "ig5xOif5Y4xX",
        "outputId": "4e16e225-3125-41e7-8b53-adda02e0c5a7"
      },
      "execution_count": 21,
      "outputs": [
        {
          "output_type": "execute_result",
          "data": {
            "text/plain": [
              "5067.10986328125"
            ]
          },
          "metadata": {},
          "execution_count": 21
        }
      ]
    },
    {
      "cell_type": "code",
      "source": [
        "# valor de la columna Adj Close al 2022-11-04 si traemos todo el dataframe, en este ejercicio solo importamos 1 columna\n",
        "#ts['Adj Close']['2022-11-04']"
      ],
      "metadata": {
        "id": "8sFL-JOTZBH4"
      },
      "execution_count": 25,
      "outputs": []
    },
    {
      "cell_type": "code",
      "source": [
        "# filtrando todo marzo de 2022\n",
        "ts['2022-3']"
      ],
      "metadata": {
        "colab": {
          "base_uri": "https://localhost:8080/"
        },
        "id": "dqyxIk-lZfJC",
        "outputId": "900083f8-0582-408f-dc7a-c641ccb59e98"
      },
      "execution_count": 26,
      "outputs": [
        {
          "output_type": "execute_result",
          "data": {
            "text/plain": [
              "Date\n",
              "2022-03-01    3925.919922\n",
              "2022-03-02    3880.919922\n",
              "2022-03-03    3845.919922\n",
              "2022-03-04    3757.699951\n",
              "2022-03-07    3731.724609\n",
              "2022-03-08    3808.750000\n",
              "2022-03-09    3771.120117\n",
              "2022-03-10    3739.750000\n",
              "2022-03-11    3816.919922\n",
              "2022-03-14    3817.590088\n",
              "2022-03-15    3795.320068\n",
              "2022-03-16    3830.919922\n",
              "2022-03-17    3832.570068\n",
              "2022-03-18    3817.919922\n",
              "2022-03-21    3818.090088\n",
              "2022-03-22    3803.750000\n",
              "2022-03-23    3763.590088\n",
              "2022-03-24    3768.919922\n",
              "2022-03-25    3785.919922\n",
              "2022-03-27    3792.909912\n",
              "2022-03-28    3781.389893\n",
              "2022-03-29    3760.020020\n",
              "2022-03-30    3749.389893\n",
              "2022-03-31    3764.090088\n",
              "Name: Adj Close, dtype: float64"
            ]
          },
          "metadata": {},
          "execution_count": 26
        }
      ]
    },
    {
      "cell_type": "code",
      "source": [
        "# Valores al cierre de cada mes.\n",
        "ts.asfreq('M', method='ffill')"
      ],
      "metadata": {
        "colab": {
          "base_uri": "https://localhost:8080/"
        },
        "id": "MRIwBQfEZvkt",
        "outputId": "97203371-8f8f-4524-9a51-84e3b5454348"
      },
      "execution_count": 27,
      "outputs": [
        {
          "output_type": "execute_result",
          "data": {
            "text/plain": [
              "Date\n",
              "2017-01-31    2915.000000\n",
              "2017-02-28    2918.100098\n",
              "2017-03-31    2846.899902\n",
              "2017-04-30    2939.750000\n",
              "2017-05-31    2891.100098\n",
              "                 ...     \n",
              "2022-06-30    4149.620117\n",
              "2022-07-31    4285.250000\n",
              "2022-08-31    4419.919922\n",
              "2022-09-30    4526.950195\n",
              "2022-10-31    4833.259766\n",
              "Freq: M, Name: Adj Close, Length: 70, dtype: float64"
            ]
          },
          "metadata": {},
          "execution_count": 27
        }
      ]
    },
    {
      "cell_type": "code",
      "source": [
        "# Valores al cierre de cada mes (días laborales).\n",
        "ts.asfreq('BM')"
      ],
      "metadata": {
        "colab": {
          "base_uri": "https://localhost:8080/"
        },
        "id": "Vk7jFJu7Z8dh",
        "outputId": "986885b0-27b9-47a4-f815-a9e784b6f930"
      },
      "execution_count": 28,
      "outputs": [
        {
          "output_type": "execute_result",
          "data": {
            "text/plain": [
              "Date\n",
              "2017-01-31    2915.000000\n",
              "2017-02-28    2918.100098\n",
              "2017-03-31            NaN\n",
              "2017-04-28            NaN\n",
              "2017-05-31    2891.100098\n",
              "                 ...     \n",
              "2022-06-30    4149.620117\n",
              "2022-07-29            NaN\n",
              "2022-08-31    4419.919922\n",
              "2022-09-30            NaN\n",
              "2022-10-31    4833.259766\n",
              "Freq: BM, Name: Adj Close, Length: 70, dtype: float64"
            ]
          },
          "metadata": {},
          "execution_count": 28
        }
      ]
    },
    {
      "cell_type": "code",
      "source": [
        "# valores al cierre de cada trimestre\n",
        "ts.asfreq('BQ')"
      ],
      "metadata": {
        "colab": {
          "base_uri": "https://localhost:8080/"
        },
        "id": "rRyGlQFfaE4K",
        "outputId": "727b7968-e4a8-4f54-d360-a30df9df423f"
      },
      "execution_count": 29,
      "outputs": [
        {
          "output_type": "execute_result",
          "data": {
            "text/plain": [
              "Date\n",
              "2017-03-31            NaN\n",
              "2017-06-30            NaN\n",
              "2017-09-29            NaN\n",
              "2017-12-29    2982.000000\n",
              "2018-03-30            NaN\n",
              "2018-06-29            NaN\n",
              "2018-09-28            NaN\n",
              "2018-12-31    3245.000000\n",
              "2019-03-29    3189.500000\n",
              "2019-06-28            NaN\n",
              "2019-09-30    3421.000000\n",
              "2019-12-31    3283.010010\n",
              "2020-03-31    4057.250000\n",
              "2020-06-30    3756.250000\n",
              "2020-09-30    3825.250000\n",
              "2020-12-31    3420.250000\n",
              "2021-03-31    3659.949951\n",
              "2021-06-30    3748.250000\n",
              "2021-09-30    3808.620117\n",
              "2021-12-31    4068.250000\n",
              "2022-03-31    3764.090088\n",
              "2022-06-30    4149.620117\n",
              "2022-09-30            NaN\n",
              "Freq: BQ-DEC, Name: Adj Close, dtype: float64"
            ]
          },
          "metadata": {},
          "execution_count": 29
        }
      ]
    }
  ]
}